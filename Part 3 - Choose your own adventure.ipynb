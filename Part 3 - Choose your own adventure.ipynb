{
 "cells": [
  {
   "cell_type": "code",
   "execution_count": null,
   "id": "dc61ac79",
   "metadata": {},
   "outputs": [],
   "source": [
    "# Load libraries\n",
    "import pandas as pd\n",
    "import matplotlib.pyplot as plt"
   ]
  },
  {
   "cell_type": "code",
   "execution_count": 1,
   "id": "b38791fc-176a-4b9a-aaed-dbbe096fe4f3",
   "metadata": {},
   "outputs": [
    {
     "data": {
      "text/html": [
       "<div>\n",
       "<style scoped>\n",
       "    .dataframe tbody tr th:only-of-type {\n",
       "        vertical-align: middle;\n",
       "    }\n",
       "\n",
       "    .dataframe tbody tr th {\n",
       "        vertical-align: top;\n",
       "    }\n",
       "\n",
       "    .dataframe thead th {\n",
       "        text-align: right;\n",
       "    }\n",
       "</style>\n",
       "<table border=\"1\" class=\"dataframe\">\n",
       "  <thead>\n",
       "    <tr style=\"text-align: right;\">\n",
       "      <th></th>\n",
       "      <th>Sample Date</th>\n",
       "      <th>PFBA (ppt)</th>\n",
       "      <th>PFPeA (ppt)</th>\n",
       "      <th>PFBS (ppt)</th>\n",
       "      <th>PFHxA (ppt)</th>\n",
       "      <th>PFHpA (ppt)</th>\n",
       "      <th>PFHxS (ppt)</th>\n",
       "      <th>PFOA (ppt)</th>\n",
       "      <th>PFNA (ppt)</th>\n",
       "      <th>PFOS (ppt)</th>\n",
       "      <th>6:2 FTS (ppt)</th>\n",
       "      <th>Sum of PFOS and  PFOA (ppt)</th>\n",
       "      <th>Sum of All PFAS  (ppt)</th>\n",
       "    </tr>\n",
       "  </thead>\n",
       "  <tbody>\n",
       "    <tr>\n",
       "      <th>0</th>\n",
       "      <td>04/19/23</td>\n",
       "      <td>Not measured</td>\n",
       "      <td>NaN</td>\n",
       "      <td>Not detected</td>\n",
       "      <td>Not detected</td>\n",
       "      <td>NaN</td>\n",
       "      <td>Not detected</td>\n",
       "      <td>Not detected</td>\n",
       "      <td>Not detected</td>\n",
       "      <td>Not detected</td>\n",
       "      <td>Not measured</td>\n",
       "      <td>0</td>\n",
       "      <td>0.0</td>\n",
       "    </tr>\n",
       "    <tr>\n",
       "      <th>1</th>\n",
       "      <td>04/05/23</td>\n",
       "      <td>Not detected</td>\n",
       "      <td>2.9</td>\n",
       "      <td>Not detected</td>\n",
       "      <td>Not detected</td>\n",
       "      <td>NaN</td>\n",
       "      <td>Not detected</td>\n",
       "      <td>Not detected</td>\n",
       "      <td>Not detected</td>\n",
       "      <td>Not detected</td>\n",
       "      <td>Not detected</td>\n",
       "      <td>0</td>\n",
       "      <td>2.9</td>\n",
       "    </tr>\n",
       "    <tr>\n",
       "      <th>2</th>\n",
       "      <td>03/21/23</td>\n",
       "      <td>Not detected</td>\n",
       "      <td>3.2</td>\n",
       "      <td>Not detected</td>\n",
       "      <td>Not detected</td>\n",
       "      <td>NaN</td>\n",
       "      <td>Not detected</td>\n",
       "      <td>Not detected</td>\n",
       "      <td>Not detected</td>\n",
       "      <td>Not detected</td>\n",
       "      <td>Not detected</td>\n",
       "      <td>0</td>\n",
       "      <td>3.2</td>\n",
       "    </tr>\n",
       "    <tr>\n",
       "      <th>3</th>\n",
       "      <td>03/07/23</td>\n",
       "      <td>Not detected</td>\n",
       "      <td>5.1</td>\n",
       "      <td>Not detected</td>\n",
       "      <td>2.6</td>\n",
       "      <td>2.5</td>\n",
       "      <td>Not detected</td>\n",
       "      <td>Not detected</td>\n",
       "      <td>Not detected</td>\n",
       "      <td>Not detected</td>\n",
       "      <td>Not detected</td>\n",
       "      <td>0</td>\n",
       "      <td>10.2</td>\n",
       "    </tr>\n",
       "    <tr>\n",
       "      <th>4</th>\n",
       "      <td>02/01/23</td>\n",
       "      <td>5.2</td>\n",
       "      <td>6.1</td>\n",
       "      <td>Not detected</td>\n",
       "      <td>3.8</td>\n",
       "      <td>4.7</td>\n",
       "      <td>Not detected</td>\n",
       "      <td>Not detected</td>\n",
       "      <td>Not detected</td>\n",
       "      <td>Not detected</td>\n",
       "      <td>2.2</td>\n",
       "      <td>0</td>\n",
       "      <td>22.0</td>\n",
       "    </tr>\n",
       "    <tr>\n",
       "      <th>...</th>\n",
       "      <td>...</td>\n",
       "      <td>...</td>\n",
       "      <td>...</td>\n",
       "      <td>...</td>\n",
       "      <td>...</td>\n",
       "      <td>...</td>\n",
       "      <td>...</td>\n",
       "      <td>...</td>\n",
       "      <td>...</td>\n",
       "      <td>...</td>\n",
       "      <td>...</td>\n",
       "      <td>...</td>\n",
       "      <td>...</td>\n",
       "    </tr>\n",
       "    <tr>\n",
       "      <th>142</th>\n",
       "      <td>11/08/16</td>\n",
       "      <td>Not measured</td>\n",
       "      <td>NaN</td>\n",
       "      <td>Not measured</td>\n",
       "      <td>Not measured</td>\n",
       "      <td>NaN</td>\n",
       "      <td>Not measured</td>\n",
       "      <td>Not detected</td>\n",
       "      <td>Not measured</td>\n",
       "      <td>8.1</td>\n",
       "      <td>Not measured</td>\n",
       "      <td>8.1</td>\n",
       "      <td>8.1</td>\n",
       "    </tr>\n",
       "    <tr>\n",
       "      <th>143</th>\n",
       "      <td>10/05/16</td>\n",
       "      <td>Not measured</td>\n",
       "      <td>NaN</td>\n",
       "      <td>5.3</td>\n",
       "      <td>Not measured</td>\n",
       "      <td>4.8</td>\n",
       "      <td>Not detected</td>\n",
       "      <td>Not detected</td>\n",
       "      <td>Not detected</td>\n",
       "      <td>7.1</td>\n",
       "      <td>Not measured</td>\n",
       "      <td>7.1</td>\n",
       "      <td>17.2</td>\n",
       "    </tr>\n",
       "    <tr>\n",
       "      <th>144</th>\n",
       "      <td>07/21/16</td>\n",
       "      <td>Not measured</td>\n",
       "      <td>NaN</td>\n",
       "      <td>9.2</td>\n",
       "      <td>Not measured</td>\n",
       "      <td>5.3</td>\n",
       "      <td>Not detected</td>\n",
       "      <td>3</td>\n",
       "      <td>Not detected</td>\n",
       "      <td>16</td>\n",
       "      <td>Not measured</td>\n",
       "      <td>19.0</td>\n",
       "      <td>33.5</td>\n",
       "    </tr>\n",
       "    <tr>\n",
       "      <th>145</th>\n",
       "      <td>03/28/16</td>\n",
       "      <td>Not measured</td>\n",
       "      <td>NaN</td>\n",
       "      <td>Not detected</td>\n",
       "      <td>Not measured</td>\n",
       "      <td>2.1</td>\n",
       "      <td>Not detected</td>\n",
       "      <td>Not detected</td>\n",
       "      <td>Not detected</td>\n",
       "      <td>11</td>\n",
       "      <td>Not measured</td>\n",
       "      <td>11.0</td>\n",
       "      <td>13.1</td>\n",
       "    </tr>\n",
       "    <tr>\n",
       "      <th>146</th>\n",
       "      <td>03/05/14</td>\n",
       "      <td>Not measured</td>\n",
       "      <td>NaN</td>\n",
       "      <td>Not measured</td>\n",
       "      <td>Not measured</td>\n",
       "      <td>NaN</td>\n",
       "      <td>Not measured</td>\n",
       "      <td>Not measured</td>\n",
       "      <td>Not measured</td>\n",
       "      <td>43</td>\n",
       "      <td>Not measured</td>\n",
       "      <td>43</td>\n",
       "      <td>43.0</td>\n",
       "    </tr>\n",
       "  </tbody>\n",
       "</table>\n",
       "<p>147 rows × 13 columns</p>\n",
       "</div>"
      ],
      "text/plain": [
       "    Sample Date     PFBA (ppt)  PFPeA (ppt)    PFBS (ppt)     PFHxA (ppt)  \\\n",
       "0     04/19/23    Not measured          NaN   Not detected   Not detected   \n",
       "1     04/05/23   Not detected           2.9   Not detected   Not detected   \n",
       "2     03/21/23   Not detected           3.2   Not detected   Not detected   \n",
       "3     03/07/23   Not detected           5.1  Not detected            2.6    \n",
       "4     02/01/23            5.2           6.1  Not detected            3.8    \n",
       "..          ...            ...          ...            ...            ...   \n",
       "142   11/08/16    Not measured          NaN   Not measured   Not measured   \n",
       "143   10/05/16    Not measured          NaN            5.3  Not measured    \n",
       "144   07/21/16    Not measured          NaN            9.2  Not measured    \n",
       "145   03/28/16    Not measured          NaN   Not detected  Not measured    \n",
       "146   03/05/14    Not measured          NaN   Not measured   Not measured   \n",
       "\n",
       "     PFHpA (ppt)    PFHxS (ppt)   PFOA (ppt)     PFNA (ppt)     PFOS (ppt)   \\\n",
       "0            NaN   Not detected  Not detected   Not detected   Not detected   \n",
       "1            NaN   Not detected  Not detected   Not detected   Not detected   \n",
       "2            NaN   Not detected  Not detected   Not detected   Not detected   \n",
       "3            2.5   Not detected  Not detected   Not detected   Not detected   \n",
       "4            4.7   Not detected  Not detected   Not detected  Not detected    \n",
       "..           ...            ...           ...            ...            ...   \n",
       "142          NaN   Not measured  Not detected  Not measured             8.1   \n",
       "143          4.8   Not detected  Not detected  Not detected             7.1   \n",
       "144          5.3  Not detected              3  Not detected              16   \n",
       "145          2.1   Not detected  Not detected  Not detected              11   \n",
       "146          NaN   Not measured  Not measured  Not measured              43   \n",
       "\n",
       "     6:2 FTS (ppt) Sum of PFOS and  PFOA (ppt)  Sum of All PFAS  (ppt)  \n",
       "0    Not measured                           0                      0.0  \n",
       "1    Not detected                           0                      2.9  \n",
       "2    Not detected                           0                      3.2  \n",
       "3    Not detected                           0                     10.2  \n",
       "4             2.2                           0                     22.0  \n",
       "..             ...                         ...                     ...  \n",
       "142  Not measured                         8.1                      8.1  \n",
       "143  Not measured                         7.1                     17.2  \n",
       "144  Not measured                        19.0                     33.5  \n",
       "145  Not measured                        11.0                     13.1  \n",
       "146  Not measured                          43                     43.0  \n",
       "\n",
       "[147 rows x 13 columns]"
      ]
     },
     "execution_count": 3,
     "metadata": {},
     "output_type": "execute_result"
    }
   ],
   "source": [
    "#read data\n",
    "url_download_barton = 'https://docs.google.com/spreadsheets/d/14Mv-sjV11S3HSy_TzdUefWglVw4anyczpWllNfTwGls/gviz/tq?tqx=out:csv'\n",
    "barton_data = pd.read_csv(url_download_barton)\n",
    "barton_data"
   ]
  },
  {
   "cell_type": "code",
   "execution_count": 17,
   "id": "8646ebdd-ae16-42cb-9fdc-35f3be880b87",
   "metadata": {},
   "outputs": [
    {
     "name": "stdout",
     "output_type": "stream",
     "text": [
      "<class 'pandas.core.frame.DataFrame'>\n",
      "RangeIndex: 1389 entries, 0 to 1388\n",
      "Data columns (total 22 columns):\n",
      " #   Column                Non-Null Count  Dtype         \n",
      "---  ------                --------------  -----         \n",
      " 0   Sample ID             1389 non-null   object        \n",
      " 1   Location description  1389 non-null   object        \n",
      " 2   Collection Date/Time  1389 non-null   datetime64[ns]\n",
      " 3   !OBS_BARTON_PND       217 non-null    object        \n",
      " 4   AMMONIA               252 non-null    object        \n",
      " 5   COND_FIELD            1207 non-null   float64       \n",
      " 6   DO_FIELD              1214 non-null   float64       \n",
      " 7   DPTH_MSRMNT_TKN       470 non-null    object        \n",
      " 8   ECOLI_MPN             245 non-null    float64       \n",
      " 9   ENTERO_MPN            197 non-null    float64       \n",
      " 10  NITRATE               1389 non-null   float64       \n",
      " 11  NITRITE PH            217 non-null    float64       \n",
      " 12  PH_FIELD              1182 non-null   float64       \n",
      " 13  PHOS_META             3 non-null      float64       \n",
      " 14  PHOS_ORTHO            76 non-null     object        \n",
      " 15  PHOS_TOTAL            206 non-null    float64       \n",
      " 16  SECCI_DEPTH           202 non-null    float64       \n",
      " 17  TEMP_C_FIELD          1216 non-null   float64       \n",
      " 18  TOTAL_COLI_MPN        147 non-null    float64       \n",
      " 19  TSS                   252 non-null    float64       \n",
      " 20  UV254                 79 non-null     float64       \n",
      " 21  Month                 1389 non-null   int64         \n",
      "dtypes: datetime64[ns](1), float64(14), int64(1), object(6)\n",
      "memory usage: 238.9+ KB\n"
     ]
    }
   ],
   "source": [
    "#look at what data is available\n",
    "barton_data.info()"
   ]
  },
  {
   "cell_type": "code",
   "execution_count": 18,
   "id": "c72da30b-38d5-44e1-bd39-bd21e7fc7f8f",
   "metadata": {},
   "outputs": [
    {
     "name": "stdout",
     "output_type": "stream",
     "text": [
      "<class 'pandas.core.frame.DataFrame'>\n",
      "RangeIndex: 1389 entries, 0 to 1388\n",
      "Data columns (total 22 columns):\n",
      " #   Column                Non-Null Count  Dtype         \n",
      "---  ------                --------------  -----         \n",
      " 0   Sample ID             1389 non-null   object        \n",
      " 1   Location description  1389 non-null   object        \n",
      " 2   Collection Date/Time  1389 non-null   datetime64[ns]\n",
      " 3   !OBS_BARTON_PND       217 non-null    object        \n",
      " 4   AMMONIA               252 non-null    object        \n",
      " 5   COND_FIELD            1207 non-null   float64       \n",
      " 6   DO_FIELD              1214 non-null   float64       \n",
      " 7   DPTH_MSRMNT_TKN       470 non-null    object        \n",
      " 8   ECOLI_MPN             245 non-null    float64       \n",
      " 9   ENTERO_MPN            197 non-null    float64       \n",
      " 10  NITRATE               1389 non-null   float64       \n",
      " 11  NITRITE PH            217 non-null    float64       \n",
      " 12  PH_FIELD              1182 non-null   float64       \n",
      " 13  PHOS_META             3 non-null      float64       \n",
      " 14  PHOS_ORTHO            76 non-null     object        \n",
      " 15  PHOS_TOTAL            206 non-null    float64       \n",
      " 16  SECCI_DEPTH           202 non-null    float64       \n",
      " 17  TEMP_C_FIELD          1216 non-null   float64       \n",
      " 18  TOTAL_COLI_MPN        147 non-null    float64       \n",
      " 19  TSS                   252 non-null    float64       \n",
      " 20  UV254                 79 non-null     float64       \n",
      " 21  Month                 1389 non-null   int64         \n",
      "dtypes: datetime64[ns](1), float64(14), int64(1), object(6)\n",
      "memory usage: 238.9+ KB\n"
     ]
    }
   ],
   "source": [
    "#want collection date/time to be datetime objects\n",
    "barton_data['Collection Date/Time'] = pd.to_datetime(barton_data['Collection Date/Time'])\n",
    "#check the data again\n",
    "barton_data.info()"
   ]
  },
  {
   "cell_type": "markdown",
   "id": "b0fc2e5c-057c-40ef-8dab-91d7ae536482",
   "metadata": {},
   "source": [
    "Exploration 1: See if there is a relationship between Conductivity measurements and the time of the year and see how often conductivity levels are unhealthy. Conductivity is higher during warmer weather, so we will see if this is the case in the data."
   ]
  },
  {
   "cell_type": "code",
   "execution_count": 20,
   "id": "50a560a6-97c5-4445-a3f9-b72fe7bb0f27",
   "metadata": {},
   "outputs": [
    {
     "data": {
      "text/plain": [
       "0       9\n",
       "1       4\n",
       "2       4\n",
       "3       4\n",
       "4       5\n",
       "       ..\n",
       "1384    9\n",
       "1385    9\n",
       "1386    9\n",
       "1387    9\n",
       "1388    9\n",
       "Name: Month, Length: 1389, dtype: int64"
      ]
     },
     "execution_count": 20,
     "metadata": {},
     "output_type": "execute_result"
    }
   ],
   "source": [
    "#want to get the conductivity by month\n",
    "\n",
    "#get months from the dates\n",
    "barton_data['Month'] = barton_data['Collection Date/Time'].dt.month\n",
    "#check the data\n",
    "barton_data['Month']"
   ]
  },
  {
   "cell_type": "code",
   "execution_count": 6,
   "id": "3e7b8983-c7ad-4077-b0ba-36eb0d8584e1",
   "metadata": {},
   "outputs": [
    {
     "data": {
      "text/plain": [
       "count    1207.000000\n",
       "mean      752.690597\n",
       "std        96.200022\n",
       "min         6.980000\n",
       "25%       730.500000\n",
       "50%       766.000000\n",
       "75%       790.000000\n",
       "max       878.000000\n",
       "Name: COND_FIELD, dtype: float64"
      ]
     },
     "execution_count": 6,
     "metadata": {},
     "output_type": "execute_result"
    }
   ],
   "source": [
    "#look at the traits of the conductivity data\n",
    "barton_data['COND_FIELD'].describe()"
   ]
  },
  {
   "cell_type": "code",
   "execution_count": 21,
   "id": "871e0000-76b8-474c-823e-f83fb9b4f676",
   "metadata": {},
   "outputs": [
    {
     "data": {
      "text/plain": [
       "Month\n",
       "4    747.035985\n",
       "5    709.638690\n",
       "6    768.136942\n",
       "7    761.142857\n",
       "8    748.588824\n",
       "9    767.900084\n",
       "Name: COND_FIELD, dtype: float64"
      ]
     },
     "execution_count": 21,
     "metadata": {},
     "output_type": "execute_result"
    }
   ],
   "source": [
    "#get the average conductivity by month\n",
    "conductivity_by_month = barton_data.groupby('Month')['COND_FIELD'].mean()\n",
    "#show data\n",
    "conductivity_by_month"
   ]
  },
  {
   "cell_type": "code",
   "execution_count": 22,
   "id": "729465ad-ba98-4d74-872a-1e8ea8decde5",
   "metadata": {},
   "outputs": [
    {
     "data": {
      "image/png": "[encoded data removed]",
      "text/plain": [
       "<Figure size 432x288 with 1 Axes>"
      ]
     },
     "metadata": {
      "needs_background": "light"
     },
     "output_type": "display_data"
    }
   ],
   "source": [
    "#plot conductivities\n",
    "#data only holds dat for April-September\n",
    "plt.title('Average Conductivity by Month')\n",
    "plt.xlabel('Month')\n",
    "plt.ylabel('Conductivity (micromhos)')\n",
    "plt.plot(conductivity_by_month)\n",
    "plt.show()"
   ]
  },
  {
   "cell_type": "code",
   "execution_count": 23,
   "id": "f1b5c0b7-e14e-48a3-aed6-580a67ec7f9d",
   "metadata": {},
   "outputs": [
    {
     "name": "stdout",
     "output_type": "stream",
     "text": [
      "The data has unhealthy conductivity levels 223 time(s).\n"
     ]
    }
   ],
   "source": [
    "#want to find how many times conductivity is ever outside healthy amounts\n",
    "#becomes unhealthy over 800 or under 100 micromhos\n",
    "\n",
    "#find and store values outside of the healthy range\n",
    "cond_unhealthy = barton_data[(barton_data['COND_FIELD'] > 800) | (barton_data['COND_FIELD'] < 100)]\n",
    "#find and print how many times this occurs\n",
    "print('The data has unhealthy conductivity levels', len(cond_unhealthy), 'time(s).')"
   ]
  },
  {
   "cell_type": "code",
   "execution_count": 24,
   "id": "a63f5250-46e5-4eee-bd3e-0b65aad6bab5",
   "metadata": {},
   "outputs": [
    {
     "data": {
      "image/png": "[encoded data removed]",
      "text/plain": [
       "<Figure size 432x288 with 1 Axes>"
      ]
     },
     "metadata": {
      "needs_background": "light"
     },
     "output_type": "display_data"
    }
   ],
   "source": [
    "#plot how frequently each unhealthy value occurs in a histogram\n",
    "plt.title('Frequency of Unhealthy Conductivity Levels')\n",
    "plt.xlabel('Conductivity (micromhos)')\n",
    "plt.ylabel('Frequency')\n",
    "plt.hist(cond_unhealthy['COND_FIELD'])\n",
    "plt.show()"
   ]
  },
  {
   "cell_type": "markdown",
   "id": "c2a051f3-eae3-45c3-9e37-9a23084f2203",
   "metadata": {},
   "source": [
    "Explanation: I loaded in the Barton Pond data and converted the collection times - found in the column 'Collection Date/Time' - to datetime objects in order to group the data by dates when needed. I wanted to get the average conductivity per months of the year, so I grouped the conductivity data - found in column 'COND_FIELD' - by month. I wanted to see the data per month regardless of year, so I only grouped by month. Using the DataFrame.describe() function, I saw that only months 4-9, or April-September, were collected. This is likely due to the pond being frozen or otherwise gives unusable data during the other months of the year. I found the mean per month for the present months and used a line plot to visualize the values.\n",
    "\n",
    "The plot shows a very low average conductivity during May with a value around 710 micromhos, and higher averages during June and September, with values around 770 micromhos. There does not seem to be a discernable relationship between the time of the year and the conductivity level, but all the monthly averages are within healthy levels 100-800 micromhos, which shows that the conductivity levels will likely sypically stay within healthy amounts and that the averages do not raise any concerns. The average conductivity does seem to be higher during June-September than April-May , which supports the fact that conductivity is typically higher during warmer months. Data from the rest of the months would need to be collected in order to see more about this relationship, as only 5 months are shown, so there is less data to visualize and analyze.\n",
    "\n",
    "I then looked at how many times in total the conductivity levels were outside healthy amounts, as in less than 100 or more than 800 micromhos. The Barton Pond data shows a conductivity level outside of 100-800 micromhos 223 times. This is a large amount, so it raises concerns about unhealthy conductivity levels that were not visible in the monthly averages. Experts may want to take action to normalize these values. After visualizing the amount of times the conductivity is outisde of healthy levels, there are much more values higher than 800 micromhos than values less than 100 micromhos, so experts would want to put more resources towards lowering high conductivity values, especially since there were relatively very few too-low conductivity values."
   ]
  },
  {
   "cell_type": "markdown",
   "id": "caac3a3e-0dbd-40a7-b1db-a013e8d4d706",
   "metadata": {},
   "source": [
    "Exploration 2: See if there are concerning nitrate levels. Nitrate concentration at or above 1-2 mg/L can threaten aquatic life, so we will check if any nitrate levels in the data exceed 1 mg/L. We will also graph the frequency that each amount of nitrate occurs in the data to see if experts should be concerned about controlling nitrate levels."
   ]
  },
  {
   "cell_type": "code",
   "execution_count": 11,
   "id": "933eff06-78b3-4438-9a9f-cd980384571d",
   "metadata": {},
   "outputs": [
    {
     "data": {
      "text/plain": [
       "count    252.000000\n",
       "mean       0.364683\n",
       "std        0.203512\n",
       "min        0.100000\n",
       "25%        0.200000\n",
       "50%        0.300000\n",
       "75%        0.400000\n",
       "max        1.900000\n",
       "Name: NITRATE, dtype: float64"
      ]
     },
     "execution_count": 11,
     "metadata": {},
     "output_type": "execute_result"
    }
   ],
   "source": [
    "#look at the traits of the nitrate data\n",
    "barton_data['NITRATE'].describe()"
   ]
  },
  {
   "cell_type": "code",
   "execution_count": 28,
   "id": "ddeb6fee-b9cb-4542-9518-173706f098b5",
   "metadata": {},
   "outputs": [
    {
     "data": {
      "text/plain": [
       "0       0.0\n",
       "1       0.4\n",
       "2       0.4\n",
       "3       0.5\n",
       "4       0.5\n",
       "       ... \n",
       "1384    0.0\n",
       "1385    0.0\n",
       "1386    0.0\n",
       "1387    0.0\n",
       "1388    0.0\n",
       "Name: NITRATE, Length: 1389, dtype: float64"
      ]
     },
     "execution_count": 28,
     "metadata": {},
     "output_type": "execute_result"
    }
   ],
   "source": [
    "#want to find how many times the nitrate levels exceed safe amounts\n",
    "\n",
    "#convert nitrate levels to floats\n",
    "barton_data['NITRATE'] = barton_data['NITRATE'].transform(lambda x: x.astype(float))\n",
    "#show the data\n",
    "barton_data['NITRATE']"
   ]
  },
  {
   "cell_type": "code",
   "execution_count": 35,
   "id": "14de47b8-3a5c-4b8c-8f12-4e0024ec1aa0",
   "metadata": {},
   "outputs": [
    {
     "data": {
      "text/plain": [
       "0       0.0\n",
       "1       0.4\n",
       "2       0.4\n",
       "3       0.5\n",
       "4       0.5\n",
       "       ... \n",
       "1384    0.0\n",
       "1385    0.0\n",
       "1386    0.0\n",
       "1387    0.0\n",
       "1388    0.0\n",
       "Name: NITRATE, Length: 1389, dtype: float64"
      ]
     },
     "execution_count": 35,
     "metadata": {},
     "output_type": "execute_result"
    }
   ],
   "source": [
    "#change any NaN nitrate values to 0\n",
    "barton_data['NITRATE'] = barton_data['NITRATE'].dropna()\n",
    "#double check this\n",
    "barton_data['NITRATE']"
   ]
  },
  {
   "cell_type": "code",
   "execution_count": 36,
   "id": "0c918a8a-1965-4600-a99a-85b0c23af3cc",
   "metadata": {},
   "outputs": [
    {
     "name": "stdout",
     "output_type": "stream",
     "text": [
      "The number of times the nitrate levels are above 1 mg/L is 3 .\n"
     ]
    }
   ],
   "source": [
    "#find the number of times the nitrate levels are dangerous\n",
    "#becomes dangerous aroung 1-2 mg/L, so check for values greater than 1 mg/L\n",
    "danger_level = 1.0\n",
    "high_nitrate = barton_data[barton_data['NITRATE'] >= danger_level]\n",
    "num_high_nitrate = len(high_nitrate)\n",
    "print('The number of times the nitrate levels are above 1 mg/L is', num_high_nitrate, '.')"
   ]
  },
  {
   "cell_type": "code",
   "execution_count": 37,
   "id": "b975d9f5-712f-449a-9f1e-8908fb106b40",
   "metadata": {},
   "outputs": [
    {
     "name": "stdout",
     "output_type": "stream",
     "text": [
      "The number of times the nitrate levels are above 2 mg/L is 0 .\n"
     ]
    }
   ],
   "source": [
    "#check for values greater than 2mg/L, which would be very dangerous\n",
    "danger_level2 = 2.0\n",
    "higher_nitrate = barton_data[barton_data['NITRATE'] >= danger_level2]\n",
    "num_higher_nitrate = len(higher_nitrate)\n",
    "print('The number of times the nitrate levels are above 2 mg/L is', num_higher_nitrate, '.')"
   ]
  },
  {
   "cell_type": "code",
   "execution_count": 38,
   "id": "d57675d5-0979-4d0d-b4d4-d041478fa0c4",
   "metadata": {},
   "outputs": [
    {
     "data": {
      "image/png": "[encoded data removed]",
      "text/plain": [
       "<Figure size 432x288 with 1 Axes>"
      ]
     },
     "metadata": {
      "needs_background": "light"
     },
     "output_type": "display_data"
    }
   ],
   "source": [
    "#plot frequencies that each level of nitrate occurs\n",
    "plt.title('Frequency of Nitrate Amounts')\n",
    "plt.xlabel('Nitrate Level (mg/L)')\n",
    "plt.ylabel('Frequency')\n",
    "plt.hist(barton_data['NITRATE'])\n",
    "plt.show()"
   ]
  },
  {
   "cell_type": "markdown",
   "id": "daa26ff7-f172-4d0e-ad3b-d017a46f06de",
   "metadata": {},
   "source": [
    "Explanation: I wanted to look at nitrate levels in the Barton Pond data and see if there consistently was a concerning amount of nitrate present. I began by converting the nitrate values - found in column 'NITRATE' - to float types so that I could plot them and compare them to the value that is designated as dangerous. I saw that there were many NaN values present, which likely meant that the nitrate values were not recorded for that observation, so I removed them. Then, I found the number of times that high levels of nitrate were present in the data set, which was 3. This is a small amount, so experts likely do not need to be worried about nitrate levels in Barton Pond. I also found that 0 observations reported a nitrate of 2 mg/L or more. Finally, I used a histogram to visualize how often each nitrate level appeared in the data. Again, it showed mostly safe levels of nitrate. As seen from the histogram and the maximum nitrate value found using the DataFrame.describe() function, no values exceed 2 mg/L, so experts do not need to worry about the nitrate levels in Barton Pond and resources can safely be utilized elsewhere."
   ]
  },
  {
   "cell_type": "code",
   "execution_count": null,
   "id": "6a2b00eb-30c0-40d2-b866-bf0a6fad658e",
   "metadata": {},
   "outputs": [],
   "source": []
  }
 ],
 "metadata": {
  "kernelspec": {
   "display_name": "Python 3 [3.10]",
   "language": "python",
   "name": "python3"
  },
  "language_info": {
   "codemirror_mode": {
    "name": "ipython",
    "version": 3
   },
   "file_extension": ".py",
   "mimetype": "text/x-python",
   "name": "python",
   "nbconvert_exporter": "python",
   "pygments_lexer": "ipython3",
   "version": "3.10.2"
  }
 },
 "nbformat": 4,
 "nbformat_minor": 5
}
