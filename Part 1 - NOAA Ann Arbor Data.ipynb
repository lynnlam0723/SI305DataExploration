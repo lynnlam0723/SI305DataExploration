{
 "cells": [
  {
   "cell_type": "markdown",
   "id": "ce006d30",
   "metadata": {},
   "source": [
    "# Data Exploration Assignment Part 1 - NOAA Ann Arbor Data"
   ]
  },
  {
   "cell_type": "code",
   "execution_count": 46,
   "id": "745f7174",
   "metadata": {},
   "outputs": [],
   "source": [
    "# Load libraries\n",
    "import pandas as pd\n",
    "import matplotlib.pyplot as plt"
   ]
  },
  {
   "cell_type": "code",
   "execution_count": 47,
   "id": "d6b30873",
   "metadata": {},
   "outputs": [
    {
     "data": {
      "text/html": [
       "<div>\n",
       "<style scoped>\n",
       "    .dataframe tbody tr th:only-of-type {\n",
       "        vertical-align: middle;\n",
       "    }\n",
       "\n",
       "    .dataframe tbody tr th {\n",
       "        vertical-align: top;\n",
       "    }\n",
       "\n",
       "    .dataframe thead th {\n",
       "        text-align: right;\n",
       "    }\n",
       "</style>\n",
       "<table border=\"1\" class=\"dataframe\">\n",
       "  <thead>\n",
       "    <tr style=\"text-align: right;\">\n",
       "      <th></th>\n",
       "      <th>STATION</th>\n",
       "      <th>Day</th>\n",
       "      <th>Hour</th>\n",
       "      <th>HourlyPrecipitation</th>\n",
       "      <th>Avg Dry Bulb Temp</th>\n",
       "      <th>Avg Wet Bulb Temp</th>\n",
       "      <th>Avg Relative Humidity</th>\n",
       "    </tr>\n",
       "  </thead>\n",
       "  <tbody>\n",
       "    <tr>\n",
       "      <th>0</th>\n",
       "      <td>72537494889</td>\n",
       "      <td>2014-01-01</td>\n",
       "      <td>0</td>\n",
       "      <td>0.0</td>\n",
       "      <td>15.500000</td>\n",
       "      <td>14.000000</td>\n",
       "      <td>81.500000</td>\n",
       "    </tr>\n",
       "    <tr>\n",
       "      <th>1</th>\n",
       "      <td>72537494889</td>\n",
       "      <td>2014-01-01</td>\n",
       "      <td>1</td>\n",
       "      <td>0.0</td>\n",
       "      <td>16.000000</td>\n",
       "      <td>15.000000</td>\n",
       "      <td>80.000000</td>\n",
       "    </tr>\n",
       "    <tr>\n",
       "      <th>2</th>\n",
       "      <td>72537494889</td>\n",
       "      <td>2014-01-01</td>\n",
       "      <td>2</td>\n",
       "      <td>0.0</td>\n",
       "      <td>16.000000</td>\n",
       "      <td>15.000000</td>\n",
       "      <td>80.000000</td>\n",
       "    </tr>\n",
       "    <tr>\n",
       "      <th>3</th>\n",
       "      <td>72537494889</td>\n",
       "      <td>2014-01-01</td>\n",
       "      <td>3</td>\n",
       "      <td>0.0</td>\n",
       "      <td>16.000000</td>\n",
       "      <td>14.500000</td>\n",
       "      <td>79.500000</td>\n",
       "    </tr>\n",
       "    <tr>\n",
       "      <th>4</th>\n",
       "      <td>72537494889</td>\n",
       "      <td>2014-01-01</td>\n",
       "      <td>4</td>\n",
       "      <td>0.0</td>\n",
       "      <td>14.666667</td>\n",
       "      <td>13.333333</td>\n",
       "      <td>78.333333</td>\n",
       "    </tr>\n",
       "    <tr>\n",
       "      <th>...</th>\n",
       "      <td>...</td>\n",
       "      <td>...</td>\n",
       "      <td>...</td>\n",
       "      <td>...</td>\n",
       "      <td>...</td>\n",
       "      <td>...</td>\n",
       "      <td>...</td>\n",
       "    </tr>\n",
       "    <tr>\n",
       "      <th>69987</th>\n",
       "      <td>72537494889</td>\n",
       "      <td>2021-12-31</td>\n",
       "      <td>19</td>\n",
       "      <td>0.0</td>\n",
       "      <td>41.000000</td>\n",
       "      <td>39.000000</td>\n",
       "      <td>86.000000</td>\n",
       "    </tr>\n",
       "    <tr>\n",
       "      <th>69988</th>\n",
       "      <td>72537494889</td>\n",
       "      <td>2021-12-31</td>\n",
       "      <td>20</td>\n",
       "      <td>0.0</td>\n",
       "      <td>41.000000</td>\n",
       "      <td>39.000000</td>\n",
       "      <td>86.000000</td>\n",
       "    </tr>\n",
       "    <tr>\n",
       "      <th>69989</th>\n",
       "      <td>72537494889</td>\n",
       "      <td>2021-12-31</td>\n",
       "      <td>21</td>\n",
       "      <td>0.0</td>\n",
       "      <td>41.000000</td>\n",
       "      <td>39.000000</td>\n",
       "      <td>86.000000</td>\n",
       "    </tr>\n",
       "    <tr>\n",
       "      <th>69990</th>\n",
       "      <td>72537494889</td>\n",
       "      <td>2021-12-31</td>\n",
       "      <td>22</td>\n",
       "      <td>0.0</td>\n",
       "      <td>42.000000</td>\n",
       "      <td>40.000000</td>\n",
       "      <td>85.000000</td>\n",
       "    </tr>\n",
       "    <tr>\n",
       "      <th>69991</th>\n",
       "      <td>72537494889</td>\n",
       "      <td>2021-12-31</td>\n",
       "      <td>23</td>\n",
       "      <td>0.0</td>\n",
       "      <td>42.000000</td>\n",
       "      <td>40.000000</td>\n",
       "      <td>82.000000</td>\n",
       "    </tr>\n",
       "  </tbody>\n",
       "</table>\n",
       "<p>69992 rows × 7 columns</p>\n",
       "</div>"
      ],
      "text/plain": [
       "           STATION         Day  Hour  HourlyPrecipitation  Avg Dry Bulb Temp  \\\n",
       "0      72537494889  2014-01-01     0                  0.0          15.500000   \n",
       "1      72537494889  2014-01-01     1                  0.0          16.000000   \n",
       "2      72537494889  2014-01-01     2                  0.0          16.000000   \n",
       "3      72537494889  2014-01-01     3                  0.0          16.000000   \n",
       "4      72537494889  2014-01-01     4                  0.0          14.666667   \n",
       "...            ...         ...   ...                  ...                ...   \n",
       "69987  72537494889  2021-12-31    19                  0.0          41.000000   \n",
       "69988  72537494889  2021-12-31    20                  0.0          41.000000   \n",
       "69989  72537494889  2021-12-31    21                  0.0          41.000000   \n",
       "69990  72537494889  2021-12-31    22                  0.0          42.000000   \n",
       "69991  72537494889  2021-12-31    23                  0.0          42.000000   \n",
       "\n",
       "       Avg Wet Bulb Temp  Avg Relative Humidity  \n",
       "0              14.000000              81.500000  \n",
       "1              15.000000              80.000000  \n",
       "2              15.000000              80.000000  \n",
       "3              14.500000              79.500000  \n",
       "4              13.333333              78.333333  \n",
       "...                  ...                    ...  \n",
       "69987          39.000000              86.000000  \n",
       "69988          39.000000              86.000000  \n",
       "69989          39.000000              86.000000  \n",
       "69990          40.000000              85.000000  \n",
       "69991          40.000000              82.000000  \n",
       "\n",
       "[69992 rows x 7 columns]"
      ]
     },
     "execution_count": 47,
     "metadata": {},
     "output_type": "execute_result"
    }
   ],
   "source": [
    "# Directly import the Ann Arbor rain data csv from the Google Drive data inventory\n",
    "url = 'https://drive.google.com/file/d/17aWCaFWyqVfZ5IXGgNNVA2eS_YtcYoHU/view?usp=sharing'\n",
    "url_download ='https://drive.google.com/uc?export=download&id=' + url.split('/')[-2]\n",
    "data = pd.read_csv(url_download)\n",
    "data"
   ]
  },
  {
   "cell_type": "markdown",
   "id": "4061eea3-bb26-4441-a2ca-028b47bf02b0",
   "metadata": {},
   "source": [
    "Question 1:"
   ]
  },
  {
   "cell_type": "code",
   "execution_count": 48,
   "id": "b6101e06-f243-488d-9b6a-ed834ff1e1e9",
   "metadata": {},
   "outputs": [
    {
     "data": {
      "text/plain": [
       "count    68695.000000\n",
       "mean         0.003259\n",
       "std          0.025302\n",
       "min          0.000000\n",
       "25%          0.000000\n",
       "50%          0.000000\n",
       "75%          0.000000\n",
       "max          1.350000\n",
       "Name: HourlyPrecipitation, dtype: float64"
      ]
     },
     "execution_count": 48,
     "metadata": {},
     "output_type": "execute_result"
    }
   ],
   "source": [
    "#Loading Hourly Precipitation\n",
    "hp = data[\"HourlyPrecipitation\"]\n",
    "hp.describe()"
   ]
  },
  {
   "cell_type": "markdown",
   "id": "47f9c896-6b2c-4420-b094-b929d0c04cb4",
   "metadata": {},
   "source": [
    "The mean of the hourly precipiation in the Ann Arbor Station in the NOAA dataset is about 0.00326 inches, meaning the average amount of precipitation per hour in 2014-2021 was about 0.00326 inches there. The standard deviation of the hourly precipitation in this dataset is 0.0253 inches, meaning the precipitation typically deviated roughly 0.0253 inches fron the mean. The quartiles all show 0.0 inches, so most hours had 0 inches of precipitation."
   ]
  },
  {
   "cell_type": "code",
   "execution_count": 49,
   "id": "965405df",
   "metadata": {},
   "outputs": [
    {
     "data": {
      "image/png": "[encoded data removed]",
      "text/plain": [
       "<Figure size 432x288 with 1 Axes>"
      ]
     },
     "metadata": {
      "needs_background": "light"
     },
     "output_type": "display_data"
    }
   ],
   "source": [
    "#get day variables\n",
    "days = pd.to_datetime(data[\"Day\"])\n",
    "#look at general precipitation per day\n",
    "plt.title(\"Hourly Precipitation by Day\")\n",
    "plt.xlabel(\"Day\")\n",
    "plt.ylabel(\"Hourly Precipitation (in.)\")\n",
    "plt.scatter(days, hp)\n",
    "plt.show()"
   ]
  },
  {
   "cell_type": "code",
   "execution_count": 50,
   "id": "a5afc53b-caa1-4f27-8404-580668832542",
   "metadata": {},
   "outputs": [
    {
     "data": {
      "image/png": "[encoded data removed]",
      "text/plain": [
       "<Figure size 432x288 with 1 Axes>"
      ]
     },
     "metadata": {
      "needs_background": "light"
     },
     "output_type": "display_data"
    }
   ],
   "source": [
    "#look at how frequently each precipitation value appears\n",
    "plt.title(\"Frequency of Hourly Precipitation Values\")\n",
    "plt.xlabel(\"Hourly Precipitation (in.)\")\n",
    "plt.ylabel(\"Frequency\")\n",
    "plt.hist(data['HourlyPrecipitation'])\n",
    "plt.show()"
   ]
  },
  {
   "cell_type": "markdown",
   "id": "57b19a4b-6d2a-49ca-b26d-fe1bd674d615",
   "metadata": {},
   "source": [
    "Most hours had 0 inches of precipitation, with very sparse values otherwise.\n",
    "There also seem to be outliers, with some values up to 1.35 inches appearing, as shown in the scatterplot."
   ]
  },
  {
   "cell_type": "code",
   "execution_count": 51,
   "id": "4d3abcba-16cb-434c-b9ce-0ee1fc958bfb",
   "metadata": {},
   "outputs": [
    {
     "data": {
      "text/plain": [
       "count    69367.000000\n",
       "mean        48.852083\n",
       "std         20.340282\n",
       "min        -26.000000\n",
       "25%         33.000000\n",
       "50%         49.000000\n",
       "75%         66.000000\n",
       "max         95.000000\n",
       "Name: Avg Dry Bulb Temp, dtype: float64"
      ]
     },
     "execution_count": 51,
     "metadata": {},
     "output_type": "execute_result"
    }
   ],
   "source": [
    "#Loading Average Dry Bulb Temperature\n",
    "adbt = data[\"Avg Dry Bulb Temp\"]\n",
    "adbt.describe()"
   ]
  },
  {
   "cell_type": "markdown",
   "id": "ef0cac4d-cb6e-4ba7-93be-e0eb560b5893",
   "metadata": {},
   "source": [
    "The mean of the Average Dry Bulb Temperature (which will be referred to as ADBT) per day is roughly 48.85 degrees Fahrenheit in 2014-2021. The standard deviation for the ADBT is roughly 20.34, so the temperature typically deviated from the mean by roughly 20.34 degrees Fahrenheit. There is a bigger range, from a minimum of -26 degrees to a maximum of 95 degrees."
   ]
  },
  {
   "cell_type": "code",
   "execution_count": 52,
   "id": "681cfcb0-1ffc-4804-b50b-c221e96edb97",
   "metadata": {},
   "outputs": [
    {
     "data": {
      "image/png": "[encoded data removed]",
      "text/plain": [
       "<Figure size 432x288 with 1 Axes>"
      ]
     },
     "metadata": {
      "needs_background": "light"
     },
     "output_type": "display_data"
    }
   ],
   "source": [
    "#plot to see distribution\n",
    "plt.title(\"Avg Dry Bulb Temp per Day\")\n",
    "plt.xlabel(\"Days\")\n",
    "plt.ylabel(\"ADBT (degrees Fahrenheit)\")\n",
    "plt.plot(days, adbt)\n",
    "plt.show()"
   ]
  },
  {
   "cell_type": "code",
   "execution_count": 53,
   "id": "682e8f8e-8116-4ef1-bd1b-0424643adb2f",
   "metadata": {},
   "outputs": [
    {
     "data": {
      "image/png": "[encoded data removed]",
      "text/plain": [
       "<Figure size 432x288 with 1 Axes>"
      ]
     },
     "metadata": {
      "needs_background": "light"
     },
     "output_type": "display_data"
    }
   ],
   "source": [
    "#plot frequencies\n",
    "plt.title(\"Avg Dry Bulb Temp per Day\")\n",
    "plt.xlabel(\"ADBT (degrees Fahrenheit)\")\n",
    "plt.ylabel(\"Frequency\")\n",
    "plt.hist(adbt)\n",
    "plt.show()"
   ]
  },
  {
   "cell_type": "markdown",
   "id": "fb115d62-f9d4-4d99-9859-1f95e32b6b5f",
   "metadata": {},
   "source": [
    "The ADBT histogram also shows a slightly left skewed graph, where the temperatures are centered around 50 degrees. Most temperatures are within 20 to 80 degrees."
   ]
  },
  {
   "cell_type": "markdown",
   "id": "8cb513ec-65fd-4b6c-beed-1036901c957b",
   "metadata": {},
   "source": [
    "Question 2:"
   ]
  },
  {
   "cell_type": "code",
   "execution_count": 54,
   "id": "9f808628-7f31-4011-932d-78f206237396",
   "metadata": {},
   "outputs": [
    {
     "data": {
      "text/plain": [
       "0        2014-01-01\n",
       "1        2014-01-01\n",
       "2        2014-01-01\n",
       "3        2014-01-01\n",
       "4        2014-01-01\n",
       "            ...    \n",
       "69987    2021-12-31\n",
       "69988    2021-12-31\n",
       "69989    2021-12-31\n",
       "69990    2021-12-31\n",
       "69991    2021-12-31\n",
       "Name: Day, Length: 69992, dtype: object"
      ]
     },
     "execution_count": 54,
     "metadata": {},
     "output_type": "execute_result"
    }
   ],
   "source": [
    "#check the Day column to see the dates present and format\n",
    "data['Day']"
   ]
  },
  {
   "cell_type": "code",
   "execution_count": 55,
   "id": "9437b036-97ee-45c5-b814-5e19da388535",
   "metadata": {},
   "outputs": [
    {
     "data": {
      "text/plain": [
       "Month\n",
       "1     0.001927\n",
       "2     0.002295\n",
       "3     0.003196\n",
       "4     0.004244\n",
       "5     0.004524\n",
       "6     0.003602\n",
       "7     0.003813\n",
       "8     0.004246\n",
       "9     0.003102\n",
       "10    0.003506\n",
       "11    0.002532\n",
       "12    0.002114\n",
       "Name: HourlyPrecipitation, dtype: float64"
      ]
     },
     "execution_count": 55,
     "metadata": {},
     "output_type": "execute_result"
    }
   ],
   "source": [
    "#change Day column to datetime objects and get the months\n",
    "data['Day'] = pd.to_datetime(data['Day'])\n",
    "data['Month'] = data['Day'].dt.month\n",
    "#group hp by months and get the average precipitation per month\n",
    "hp_by_month = data.groupby('Month')['HourlyPrecipitation'].mean()\n",
    "#show values\n",
    "hp_by_month"
   ]
  },
  {
   "cell_type": "code",
   "execution_count": 56,
   "id": "ba34fe40-00de-4bd0-8c7a-51a309c8decf",
   "metadata": {},
   "outputs": [
    {
     "data": {
      "image/png": "[encoded data removed]",
      "text/plain": [
       "<Figure size 432x288 with 1 Axes>"
      ]
     },
     "metadata": {
      "needs_background": "light"
     },
     "output_type": "display_data"
    }
   ],
   "source": [
    "#show the monthly precipitation distribution in a line graph\n",
    "plt.title(\"Hourly Precipitation Average per Month\")\n",
    "plt.xlabel(\"Month\")\n",
    "plt.ylabel(\"Hourly Precipitation (in.)\")\n",
    "plt.plot(hp_by_month)\n",
    "plt.show()"
   ]
  },
  {
   "cell_type": "markdown",
   "id": "cf269f6c-a764-4a20-9c58-ff45f1100875",
   "metadata": {},
   "source": [
    "The Hourly Precipitation seems to be the highest during the middle or summer season of the year, reaching a maximum of an average of 0.004524 inches during month 5, or May. It is much lower during the ends or winter seasons of the year, reaching a minimum of an average of 0.001927 inches during month 1, or January. There is a steep increase in precipitation between months 1 through 4, where it stays at a higher amount, then declines between months 8 through 12."
   ]
  },
  {
   "cell_type": "code",
   "execution_count": 57,
   "id": "31458bbe-f6b2-4db8-b3c0-12798d520484",
   "metadata": {},
   "outputs": [
    {
     "data": {
      "text/plain": [
       "Month\n",
       "1     24.474006\n",
       "2     24.767325\n",
       "3     35.318376\n",
       "4     46.718677\n",
       "5     58.966430\n",
       "6     68.013109\n",
       "7     71.359251\n",
       "8     70.158439\n",
       "9     63.520193\n",
       "10    51.857246\n",
       "11    38.069436\n",
       "12    31.537182\n",
       "Name: Avg Dry Bulb Temp, dtype: float64"
      ]
     },
     "execution_count": 57,
     "metadata": {},
     "output_type": "execute_result"
    }
   ],
   "source": [
    "#group adbt by months and get the average temperature per month\n",
    "adbt_by_month = data.groupby('Month')['Avg Dry Bulb Temp'].mean()\n",
    "#show the distribution\n",
    "adbt_by_month"
   ]
  },
  {
   "cell_type": "code",
   "execution_count": 58,
   "id": "f97b35c0-84da-4f89-b93e-75241de44e15",
   "metadata": {},
   "outputs": [
    {
     "data": {
      "image/png": "[encoded data removed]",
      "text/plain": [
       "<Figure size 432x288 with 1 Axes>"
      ]
     },
     "metadata": {
      "needs_background": "light"
     },
     "output_type": "display_data"
    }
   ],
   "source": [
    "#graph the temperatures per month\n",
    "plt.title(\"Average Dry Bulb Temperature per Month\")\n",
    "plt.xlabel(\"Month\")\n",
    "plt.ylabel(\"ADBT (degrees Fahrenheit\")\n",
    "plt.plot(adbt_by_month)\n",
    "plt.show()"
   ]
  },
  {
   "cell_type": "markdown",
   "id": "cbebb703-88ed-4d11-8f64-30dad4c374a4",
   "metadata": {},
   "source": [
    "The Average Dry Bulb Temperature seems to also have a maximum during the summer months, reaching an average temperature of 71.359251 degrees during July. It also reaches a minimum average temperature of 24.474006 degrees during January and has much colder temperatures during the winter months. There is a steady increase in temperature from January to roughly July, then a steady decrease from July to December."
   ]
  },
  {
   "cell_type": "markdown",
   "id": "75b5ae6b-c380-41ca-ba97-9e637fb103a5",
   "metadata": {},
   "source": [
    "Question 3:"
   ]
  },
  {
   "cell_type": "code",
   "execution_count": 59,
   "id": "8e921d16-d006-429b-83d0-5b29387e4016",
   "metadata": {},
   "outputs": [
    {
     "name": "stdout",
     "output_type": "stream",
     "text": [
      "Most precipitation in a day: 3.3100000000000005 inches\n"
     ]
    }
   ],
   "source": [
    "#fill NaN vals in HP with 0\n",
    "data['HourlyPrecipitation'] = data['HourlyPrecipitation'].fillna(0)\n",
    "#get 24 hour precipitation rolling sums\n",
    "sum_day_hp = data['HourlyPrecipitation'].rolling(24).sum()\n",
    "#print maximum daily hp\n",
    "max_day_hp = sum_day_hp.max()\n",
    "print('Most precipitation in a day:', max_day_hp, 'inches')"
   ]
  },
  {
   "cell_type": "code",
   "execution_count": 60,
   "id": "9fea23c0-3932-4325-b633-8e0fd7388490",
   "metadata": {},
   "outputs": [
    {
     "name": "stdout",
     "output_type": "stream",
     "text": [
      "Most precipitation in 3 days: 3.72 inches\n"
     ]
    }
   ],
   "source": [
    "#get 3 day precipitation rolling sums\n",
    "three_day_hp_sum = data['HourlyPrecipitation'].rolling(168).sum()\n",
    "#print max 3 day hp\n",
    "three_day_hp_max = three_day_hp_sum.max()\n",
    "print('Most precipitation in 3 days:', three_day_hp_max, 'inches')"
   ]
  },
  {
   "cell_type": "markdown",
   "id": "7a53118a-c29f-42c8-bea2-6966c9d7f3ac",
   "metadata": {},
   "source": [
    "Question 4:"
   ]
  },
  {
   "cell_type": "code",
   "execution_count": 61,
   "id": "64d58eee-7a1d-41d9-9a69-8fae7b2783fa",
   "metadata": {},
   "outputs": [
    {
     "name": "stdout",
     "output_type": "stream",
     "text": [
      "Ann Arbor has surpassed this estimate 3 time(s).\n"
     ]
    }
   ],
   "source": [
    "#get 6 hour precipitation rolling sums \n",
    "six_hr_hp_sums = data['HourlyPrecipitation'].rolling(6).sum()\n",
    "six_hr_hp_sums.fillna(0, inplace=True)\n",
    "#estimate is 2.22 in\n",
    "counter = 0\n",
    "for s in six_hr_hp_sums:\n",
    "    if s > 2.22:\n",
    "        counter += 1\n",
    "print('Ann Arbor has surpassed this estimate', counter, 'time(s).')"
   ]
  },
  {
   "cell_type": "code",
   "execution_count": null,
   "id": "c3e64ac8-879a-4a95-9cc3-6366d6ee02aa",
   "metadata": {},
   "outputs": [],
   "source": []
  }
 ],
 "metadata": {
  "kernelspec": {
   "display_name": "Python 3 [3.10]",
   "language": "python",
   "name": "python3"
  },
  "language_info": {
   "codemirror_mode": {
    "name": "ipython",
    "version": 3
   },
   "file_extension": ".py",
   "mimetype": "text/x-python",
   "name": "python",
   "nbconvert_exporter": "python",
   "pygments_lexer": "ipython3",
   "version": "3.10.2"
  }
 },
 "nbformat": 4,
 "nbformat_minor": 5
}
